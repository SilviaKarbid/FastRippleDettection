{
 "cells": [
  {
   "cell_type": "code",
   "execution_count": 1,
   "metadata": {},
   "outputs": [],
   "source": [
    "import pandas as pd\n",
    "import torch\n",
    "import GPUtil\n",
    "from PIL import Image\n",
    "from sklearn.model_selection import train_test_split\n",
    "import numpy as np\n",
    "from torchvision import transforms\n",
    "from torch.utils.data import DataLoader, Dataset"
   ]
  },
  {
   "cell_type": "code",
   "execution_count": null,
   "metadata": {},
   "outputs": [],
   "source": [
    "fig, axs = plt.subplots(3, sharex=True, figsize=(10,7), dpi=300)\n",
    "axs[0].plot(timevec[indFR[0]:indFR[1]],orgTMA[indFR[0]:indFR[1]])    # Señal Orginal\n",
    "axs[0].set_title('Raw Signal',fontweight =\"bold\", fontsize = 12)\n",
    "\n",
    "# axs[1].plot(timevec[indFR[0]:indFR[1]],SWTMA[indFR[0]:indFR[1]])  # Senal Slow Wave\n",
    "# axs[1].set_title('Slow Wave filtering Signal')\n",
    "axs[1].plot(timevec[indFR[0]:indFR[1]],filtTMA[indFR[0]:indFR[1]])   # Señal band pass 250-500 Hz\n",
    "axs[1].set_title('Filter Signal (250 - 500 Hz)',fontweight =\"bold\", fontsize = 12)\n",
    "# plt.ylim(-0.2,0.2)\n",
    "\n",
    "contour = axs[2].contourf(timevec[indFR[0]:indFR[1]],frex,mWarr,cmap=cm.CMRmap)\n",
    "axs[2].set_title('Time - Frequency Spectrum',fontweight =\"bold\", fontsize = 12)\n",
    "axs[2]. set_ylim(200, 550)\n",
    "\n",
    "# -------------------BEGIN-CHANGES------------------------\n",
    "# Hide the all but the bottom spines (axis lines)\n",
    "axs[0].spines[\"right\"].set_visible(False)\n",
    "axs[0].spines[\"left\"].set_visible(False)\n",
    "axs[0].spines[\"top\"].set_visible(False)\n",
    "\n",
    "axs[1].spines[\"right\"].set_visible(False)\n",
    "axs[1].spines[\"left\"].set_visible(False)\n",
    "axs[1].spines[\"top\"].set_visible(False)\n",
    "\n",
    "axs[2].spines[\"right\"].set_visible(False)\n",
    "axs[2].spines[\"left\"].set_visible(False)\n",
    "axs[2].spines[\"top\"].set_visible(False)\n",
    "\n",
    "fig.text(0.5, 0.04, 'Time (s)', ha='center', va='center')\n",
    "fig.text(0.06, 0.5, 'Amplitude (V)', ha='center', va='center', rotation='vertical')\n",
    "fig.text(0.06, 0.8, 'Amplitude (V)', ha='center', va='center', rotation='vertical')\n",
    "fig.text(0.06, 0.2, 'Frecuency (Hz)', ha='center', va='center', rotation='vertical')"
   ]
  },
  {
   "cell_type": "markdown",
   "metadata": {},
   "source": [
    "### Cargar base de datos"
   ]
  },
  {
   "cell_type": "code",
   "execution_count": 2,
   "metadata": {},
   "outputs": [],
   "source": [
    "## Importar base de datos randomizada dividida en imagenes y etiquetas\n",
    "X = pd.read_csv(r'D:\\onlyImage.csv') \n",
    "y = pd.read_csv(r'D:\\onlyTarget.csv')\n",
    "y = y.astype('int64')"
   ]
  },
  {
   "cell_type": "code",
   "execution_count": null,
   "metadata": {},
   "outputs": [],
   "source": [
    "## Imprimir primero datos del DF\n",
    "# X.head()\n",
    "# y.head()"
   ]
  },
  {
   "cell_type": "code",
   "execution_count": 3,
   "metadata": {},
   "outputs": [],
   "source": [
    "# Transformar a numpy array para acceder a los elementos individuales de cada columna\n",
    "XArr = X['Path'].to_numpy()\n",
    "yArr = y['Target '].to_numpy()"
   ]
  },
  {
   "cell_type": "code",
   "execution_count": null,
   "metadata": {},
   "outputs": [],
   "source": [
    "# Impresión de vectores\n",
    "# XArr\n",
    "# yArr"
   ]
  },
  {
   "cell_type": "markdown",
   "metadata": {},
   "source": [
    "### Dispositivo de entrenamiento"
   ]
  },
  {
   "cell_type": "code",
   "execution_count": 4,
   "metadata": {},
   "outputs": [
    {
     "name": "stdout",
     "output_type": "stream",
     "text": [
      "CUDA is available!  Training on GPU ...\n"
     ]
    }
   ],
   "source": [
    "device = torch.cuda.is_available()\n",
    "\n",
    "if not device:\n",
    "    print('CUDA is not available.  Training on CPU ...')\n",
    "else:\n",
    "    print('CUDA is available!  Training on GPU ...')"
   ]
  },
  {
   "cell_type": "code",
   "execution_count": 5,
   "metadata": {},
   "outputs": [
    {
     "name": "stdout",
     "output_type": "stream",
     "text": [
      "ID: 0, Name: NVIDIA GeForce RTX 4070 Laptop GPU, Load: 25.0%, Memory Free: 7843.0MB, Memory Used: 106.0MB, Memory Total: 8188.0MB, Temperature: 43.0 °C\n"
     ]
    }
   ],
   "source": [
    "# Tipo de GPU donde se está entrenando la red\n",
    "gpus = GPUtil.getGPUs()\n",
    "if gpus:\n",
    "    for gpu in gpus:\n",
    "        print(f\"ID: {gpu.id}, Name: {gpu.name}, Load: {gpu.load*100}%, Memory Free: {gpu.memoryFree}MB, Memory Used: {gpu.memoryUsed}MB, Memory Total: {gpu.memoryTotal}MB, Temperature: {gpu.temperature} °C\")\n",
    "else:\n",
    "    print(\"No GPUs available\")"
   ]
  },
  {
   "cell_type": "markdown",
   "metadata": {},
   "source": [
    "### Separar en testing, training y validation.\n",
    "70% Training\n",
    "\n",
    "15% Testing\n",
    "\n",
    "15% validation\n",
    "     "
   ]
  },
  {
   "cell_type": "code",
   "execution_count": 81,
   "metadata": {},
   "outputs": [],
   "source": [
    "# Dividir en conjunto de entrenamiento y conjunto restante (validación + testing)\n",
    "# test_size = 0.3  -> 30% del dataset será utilizado para validación y testing \n",
    "X_train, X_temp, y_train, y_temp = train_test_split(XArr, yArr, test_size=0.3)"
   ]
  },
  {
   "cell_type": "code",
   "execution_count": null,
   "metadata": {},
   "outputs": [],
   "source": [
    "print(f'Tamaño de entrenamiento X (70%): {X_train.shape[0]}')\n",
    "print(f'Tamaño de entrenamiento y: {y_train.shape[0]}')\n",
    "print(f'Tamaño de testing X(30%): {X_temp.shape[0]}')\n",
    "print(f'Tamaño de testing y: {y_temp.shape[0]}')"
   ]
  },
  {
   "cell_type": "code",
   "execution_count": 82,
   "metadata": {},
   "outputs": [],
   "source": [
    "# Dividir los datos testing en testing y validación\n",
    "X_val, X_test, y_val, y_test = train_test_split(X_temp, y_temp, test_size=0.5)"
   ]
  },
  {
   "cell_type": "code",
   "execution_count": null,
   "metadata": {},
   "outputs": [],
   "source": [
    "print(f'Tamaño de testing X (15%): {X_test.shape[0]}')\n",
    "print(f'Tamaño de testing y: {y_test.shape[0]}')\n",
    "print(f'Tamaño de validation X(15%): {X_val.shape[0]}')\n",
    "print(f'Tamaño de validation y: {y_val.shape[0]}')"
   ]
  },
  {
   "cell_type": "markdown",
   "metadata": {},
   "source": [
    "## Guardar Datos de entrenamiento y testing "
   ]
  },
  {
   "cell_type": "code",
   "execution_count": 83,
   "metadata": {},
   "outputs": [],
   "source": [
    "# Training\n",
    "df = pd.DataFrame({\n",
    "                   'Sample': X_train,\n",
    "                   'Target': y_train     \n",
    "})\n",
    "\n",
    "df.to_csv(r'D:\\Training.csv',index=False)"
   ]
  },
  {
   "cell_type": "code",
   "execution_count": 86,
   "metadata": {},
   "outputs": [],
   "source": [
    "# Testing\n",
    "dfTest = pd.DataFrame({\n",
    "                   'Sample': X_test,\n",
    "                   'Target': y_test     \n",
    "})\n",
    "\n",
    "dfTest.to_csv(r'D:\\TTV\\Testing.csv',index=False)\n"
   ]
  },
  {
   "cell_type": "code",
   "execution_count": 87,
   "metadata": {},
   "outputs": [],
   "source": [
    "# Validation \n",
    "dfVal = pd.DataFrame({\n",
    "                   'Sample': X_val,\n",
    "                   'Target': y_val    \n",
    "})\n",
    "\n",
    "dfVal.to_csv(r'D:\\TTV\\Validation.csv',index=False)"
   ]
  },
  {
   "cell_type": "markdown",
   "metadata": {},
   "source": [
    "### Transformación de imagenes con transpose "
   ]
  },
  {
   "cell_type": "code",
   "execution_count": 4,
   "metadata": {},
   "outputs": [],
   "source": [
    "class CustomImageDataset(Dataset):\n",
    "    def __init__(self, image_paths, targets):\n",
    "        self.image_paths = image_paths\n",
    "        self.targets = targets\n",
    "        self.transforms = transforms.ToTensor()   # Se esta transformando la imagen a un tensor (Normalización individual de la imagen)\n",
    "        # transforms.ToTensor() normaliza [0-1] los valores de [0-255] (cada imagen individualmente) diviendo cada valor por 255, pasando a valores de punto flotante \n",
    "        \n",
    "    def __len__(self):\n",
    "        return len(self.image_paths)\n",
    "    \n",
    "    def __getitem__(self, idx):\n",
    "        img_path = self.image_paths[idx]\n",
    "        img = Image.open(img_path).convert(\"RGB\")  # Cargar la imagen y convertir a RGB\n",
    "        image = self.transforms(img)\n",
    "        target = self.targets[idx]                  \n",
    "        return image, target"
   ]
  },
  {
   "cell_type": "markdown",
   "metadata": {},
   "source": [
    "## Notas de normalización media y SD\n"
   ]
  },
  {
   "cell_type": "markdown",
   "metadata": {},
   "source": [
    "Para X_train la media y la SD por canal son:\n",
    "\n",
    "media: tensor([0.2486, 0.2486, 0.2486])\n",
    "\n",
    "SD: tensor([0.2377, 0.2377, 0.2377])"
   ]
  },
  {
   "cell_type": "code",
   "execution_count": 5,
   "metadata": {},
   "outputs": [],
   "source": [
    "dataset = CustomImageDataset(image_paths=XArr,targets=yArr)\n",
    "\n",
    "batch = 30\n",
    "dataloader = DataLoader(dataset=dataset, batch_size=batch,shuffle=True)\n"
   ]
  },
  {
   "cell_type": "code",
   "execution_count": 6,
   "metadata": {},
   "outputs": [],
   "source": [
    "def meanSDNormalize(dataloader):\n",
    "    mean = 0.0\n",
    "    std = 0.0 \n",
    "    smp = 0 \n",
    "\n",
    "    for data in dataloader:      # len(data) = 2 -> Contiene 2 columnas 0: imagenes 1: target \n",
    "        batch = data[0]          # batch es un array de [20,256,256,3] -> contiene los datos de las imagenes \n",
    "        # Tamaño de muestras \n",
    "        batchSam = batch.shape[0] # Num de img en cada muestra (20) # data[0].shape -> [20,256,256,3] 20 imagenesde 256*256 con 3 canale\n",
    "        smp += batchSam\n",
    "        # Media y SD para normalización \n",
    "        flipbatch = batch.view(batchSam,-1,3) # Flip del la imagen (256*256)-> 65536 -> [20,65536,3]\n",
    "        mean += flipbatch.mean(1).sum(0)  # se obtiene la media por canal de cada imagen en batch y después se suman todas las medias \n",
    "        # # print(mean)                     # Acumulación de las medias\n",
    "        std += flipbatch.std(1).sum(0)\n",
    "\n",
    "    mean /= smp\n",
    "    std /= smp\n",
    "    \n",
    "    return(mean,std)"
   ]
  },
  {
   "cell_type": "code",
   "execution_count": 7,
   "metadata": {},
   "outputs": [],
   "source": [
    "mean,std = meanSDNormalize(dataloader)\n",
    "  "
   ]
  },
  {
   "cell_type": "code",
   "execution_count": 9,
   "metadata": {},
   "outputs": [
    {
     "name": "stdout",
     "output_type": "stream",
     "text": [
      "tensor([0.2486, 0.2486, 0.2486])\n",
      "tensor([0.2377, 0.2377, 0.2377])\n"
     ]
    }
   ],
   "source": [
    "print(mean)\n",
    "print(std)\n"
   ]
  },
  {
   "cell_type": "code",
   "execution_count": null,
   "metadata": {},
   "outputs": [],
   "source": [
    "flipbatch.shape\n",
    "flipbatch.mean(1)"
   ]
  },
  {
   "cell_type": "code",
   "execution_count": null,
   "metadata": {},
   "outputs": [],
   "source": [
    "dataiter = iter(dataloader)\n",
    "img,lb = next(dataiter)\n",
    "\n",
    "img.shape"
   ]
  },
  {
   "cell_type": "markdown",
   "metadata": {},
   "source": [
    "## Esta transformació funcioan"
   ]
  },
  {
   "cell_type": "code",
   "execution_count": null,
   "metadata": {},
   "outputs": [],
   "source": [
    "traingTans = transforms.Compose([ transforms.RandomHorizontalFlip(), # Hace un flip en el sentido horizontal \n",
    "                                  transforms.ToTensor(), # toma los valores iniciales y los escala a valores entre 0-1\n",
    "                                 #  transforms.Normalize((0.5, 0.5, 0.5), (0.5, 0.5, 0.5))\n",
    "                                  ],\n",
    "                               ) "
   ]
  },
  {
   "cell_type": "code",
   "execution_count": null,
   "metadata": {},
   "outputs": [],
   "source": [
    "class CustomImageDataset(Dataset):\n",
    "    def __init__(self, image_paths, targets, transform=None):\n",
    "        self.image_paths = image_paths\n",
    "        self.targets = targets\n",
    "        self.transform = transform\n",
    "    \n",
    "    def __len__(self):\n",
    "        return len(self.image_paths)\n",
    "    \n",
    "    def __getitem__(self, idx):\n",
    "        img_path = self.image_paths[idx]\n",
    "        image = Image.open(img_path).convert(\"RGB\")  # Cargar la imagen y convertir a RGB\n",
    "        target = self.targets[idx]\n",
    "        \n",
    "        if self.transform:\n",
    "            image = self.transform(image)\n",
    "        \n",
    "        return image, target\n",
    "    "
   ]
  },
  {
   "cell_type": "code",
   "execution_count": null,
   "metadata": {},
   "outputs": [],
   "source": [
    "dataset = CustomImageDataset(image_paths=X_train,targets=y_train,transform = traingTans)"
   ]
  },
  {
   "cell_type": "code",
   "execution_count": null,
   "metadata": {},
   "outputs": [],
   "source": [
    "batch = 20\n",
    "dataloader = DataLoader(dataset=dataset, batch_size=batch,shuffle=True)"
   ]
  },
  {
   "cell_type": "code",
   "execution_count": null,
   "metadata": {},
   "outputs": [],
   "source": [
    "dataiter = iter(dataloader)"
   ]
  },
  {
   "cell_type": "code",
   "execution_count": null,
   "metadata": {},
   "outputs": [],
   "source": [
    "img,lb = next(dataiter)"
   ]
  },
  {
   "cell_type": "code",
   "execution_count": null,
   "metadata": {},
   "outputs": [],
   "source": [
    "img.shape"
   ]
  },
  {
   "cell_type": "code",
   "execution_count": null,
   "metadata": {},
   "outputs": [],
   "source": []
  },
  {
   "cell_type": "code",
   "execution_count": null,
   "metadata": {},
   "outputs": [],
   "source": []
  },
  {
   "cell_type": "code",
   "execution_count": null,
   "metadata": {},
   "outputs": [],
   "source": [
    "def imshow(img):\n",
    "    # Desnormalizar la imagen\n",
    "    img = img / 2 + 0.5  # Desnormaliza si has usado Normalization (ejemplo: img / 2 + 0.5)\n",
    "    npimg = img.numpy()  # Convertir a numpy array\n",
    "    plt.imshow(np.transpose(npimg, (1, 2, 0)))  # Convertir de CxHxW a HxWxC\n",
    "    plt.show()"
   ]
  },
  {
   "cell_type": "code",
   "execution_count": null,
   "metadata": {},
   "outputs": [],
   "source": [
    "import torchvision\n",
    "import matplotlib.pyplot as plt \n",
    "\n",
    "imshow(torchvision.utils.make_grid(img))"
   ]
  },
  {
   "cell_type": "code",
   "execution_count": null,
   "metadata": {},
   "outputs": [],
   "source": []
  },
  {
   "cell_type": "code",
   "execution_count": null,
   "metadata": {},
   "outputs": [],
   "source": []
  },
  {
   "cell_type": "markdown",
   "metadata": {},
   "source": [
    "## Aplicar transformación a imagen\n"
   ]
  },
  {
   "cell_type": "code",
   "execution_count": 6,
   "metadata": {},
   "outputs": [],
   "source": [
    "import pandas as pd\n",
    "from PIL import Image\n",
    "from torchvision import transforms\n"
   ]
  },
  {
   "cell_type": "code",
   "execution_count": null,
   "metadata": {},
   "outputs": [],
   "source": [
    "trainingData = pd.read_csv(r'D:\\TTV\\Training.csv')  # Base da datos completa col = 'Sample', 'Target'\n",
    "X_train = trainingData['Sample']   # Asignar columna de samples a X\n",
    "y_train = trainingData['Target']   # Asignar columna de target a y "
   ]
  },
  {
   "cell_type": "code",
   "execution_count": 12,
   "metadata": {},
   "outputs": [
    {
     "data": {
      "image/jpeg": "[encoded data removed]",
      "image/png": "[encoded data removed]",
      "text/plain": [
       "<PIL.Image.Image image mode=RGB size=256x256>"
      ]
     },
     "execution_count": 12,
     "metadata": {},
     "output_type": "execute_result"
    }
   ],
   "source": [
    "img_path = X_train[1]\n",
    "image = Image.open(img_path).convert(\"RGB\")\n",
    "image"
   ]
  },
  {
   "cell_type": "code",
   "execution_count": 43,
   "metadata": {},
   "outputs": [
    {
     "data": {
      "image/jpeg": "[encoded data removed]",
      "image/png": "[encoded data removed]",
      "text/plain": [
       "<PIL.Image.Image image mode=RGB size=256x256>"
      ]
     },
     "execution_count": 43,
     "metadata": {},
     "output_type": "execute_result"
    }
   ],
   "source": [
    "trsHF = transforms.RandomHorizontalFlip(p=.5)\n",
    "imgHF = trsHF(image)\n",
    "imgHF"
   ]
  },
  {
   "cell_type": "code",
   "execution_count": null,
   "metadata": {},
   "outputs": [],
   "source": [
    "## Definiendo la transformación de la imagen\n",
    "tranf = transforms.Compose([ transforms.RandomVerticalFip(),\n",
    "                            transforms.RandomHorizontalFlip(),\n",
    "                            transforms.ToTensor(),\n",
    "                            transforms.Normalize((0.5, 0.5, 0.5), (0.5, 0.5, 0.5))\n",
    "                                  ],\n",
    "                               ) "
   ]
  },
  {
   "cell_type": "code",
   "execution_count": null,
   "metadata": {},
   "outputs": [],
   "source": [
    "img = Image.open(X_train[0])\n",
    "img\n",
    "arr = np.asarray(img)\n",
    "arr\n",
    "trs = transforms.ToTensor()\n",
    "tensor = trs(img)\n",
    "tensor"
   ]
  },
  {
   "cell_type": "markdown",
   "metadata": {},
   "source": [
    "### Normalización en na imagen"
   ]
  },
  {
   "cell_type": "code",
   "execution_count": null,
   "metadata": {},
   "outputs": [],
   "source": [
    "from PIL import Image\n",
    "\n",
    "img = Image.open(X_train[0]).convert('RGB')\n",
    "img"
   ]
  },
  {
   "cell_type": "code",
   "execution_count": null,
   "metadata": {},
   "outputs": [],
   "source": [
    "transf = transforms.ToTensor()\n",
    "tenImg = transf(img)"
   ]
  },
  {
   "cell_type": "code",
   "execution_count": null,
   "metadata": {},
   "outputs": [],
   "source": [
    "tenImg.shape"
   ]
  },
  {
   "cell_type": "code",
   "execution_count": null,
   "metadata": {},
   "outputs": [],
   "source": []
  },
  {
   "cell_type": "code",
   "execution_count": null,
   "metadata": {},
   "outputs": [],
   "source": [
    "cnR = tenImg[0,:,:]\n",
    "print(type(cnR))"
   ]
  },
  {
   "cell_type": "code",
   "execution_count": null,
   "metadata": {},
   "outputs": [],
   "source": [
    "cnG = tenImg[1,:,:]\n",
    "cnG"
   ]
  },
  {
   "cell_type": "code",
   "execution_count": null,
   "metadata": {},
   "outputs": [],
   "source": [
    "cnB = tenImg[2,:,:]\n",
    "cnB"
   ]
  },
  {
   "cell_type": "code",
   "execution_count": null,
   "metadata": {},
   "outputs": [],
   "source": [
    "import matplotlib.pyplot as plt\n",
    "plt.imshow(cnG)"
   ]
  },
  {
   "cell_type": "code",
   "execution_count": null,
   "metadata": {},
   "outputs": [],
   "source": [
    "## Hacer split de la imagen\n",
    "print(cnR.shape)\n",
    "splitArr = cnR.view(-1)\n",
    "print(splitArr.shape)\n"
   ]
  },
  {
   "cell_type": "code",
   "execution_count": null,
   "metadata": {},
   "outputs": [],
   "source": [
    "splitArr.mean()"
   ]
  },
  {
   "cell_type": "code",
   "execution_count": null,
   "metadata": {},
   "outputs": [],
   "source": []
  },
  {
   "cell_type": "code",
   "execution_count": null,
   "metadata": {},
   "outputs": [],
   "source": []
  },
  {
   "cell_type": "code",
   "execution_count": null,
   "metadata": {},
   "outputs": [],
   "source": []
  },
  {
   "cell_type": "code",
   "execution_count": null,
   "metadata": {},
   "outputs": [],
   "source": []
  },
  {
   "cell_type": "code",
   "execution_count": null,
   "metadata": {},
   "outputs": [],
   "source": []
  },
  {
   "cell_type": "code",
   "execution_count": null,
   "metadata": {},
   "outputs": [],
   "source": []
  }
 ],
 "metadata": {
  "kernelspec": {
   "display_name": "Python 3",
   "language": "python",
   "name": "python3"
  },
  "language_info": {
   "codemirror_mode": {
    "name": "ipython",
    "version": 3
   },
   "file_extension": ".py",
   "mimetype": "text/x-python",
   "name": "python",
   "nbconvert_exporter": "python",
   "pygments_lexer": "ipython3",
   "version": "3.12.2"
  }
 },
 "nbformat": 4,
 "nbformat_minor": 2
}
