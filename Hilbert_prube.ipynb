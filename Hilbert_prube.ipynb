{
 "cells": [
  {
   "cell_type": "code",
   "execution_count": 1,
   "metadata": {},
   "outputs": [],
   "source": [
    "import numpy as np     \n",
    "import pandas as pd              \n",
    "import matplotlib.pyplot as plt\n",
    "from matplotlib import cm\n",
    "\n",
    "# Clases propias\n",
    "from SignalClases import OrgSignal\n",
    "from SignalClases import FiltSignal\n",
    "from SignalClases import SWSignal\n",
    "from SignalClases import IndSW\n",
    "from SignalClases import saveData\n",
    "from ImgPlot import Plot_Signals\n",
    "from Hilbert import HilbClass\n",
    "from CrossDetClass import crossDetector\n",
    "from timeDetClass import tDetClass\n",
    "from recSigClass import recClass\n",
    "from saveList import save"
   ]
  },
  {
   "cell_type": "code",
   "execution_count": 2,
   "metadata": {},
   "outputs": [],
   "source": [
    "##  Cargar una muestra para prueba\n",
    "foldNum = 0             # CBX\n",
    "fileNum = 5             # FR - 94\n",
    "srate = 10000           # tasa de muestreo "
   ]
  },
  {
   "cell_type": "code",
   "execution_count": null,
   "metadata": {},
   "outputs": [],
   "source": [
    "## Señal Original \n",
    "\n",
    "orgSignal, path, file = OrgSignal.getData(foldNum,fileNum)\n",
    "# print(path)               # ruta de la carpeta \n",
    "# print(file)               # num. de archivo\n",
    "# print(orgSignal.shape)      # dimension del arreglo     "
   ]
  },
  {
   "cell_type": "code",
   "execution_count": null,
   "metadata": {},
   "outputs": [],
   "source": [
    "## Señal Filtrada   250 - 550 Hz\n",
    "filtSig,filtPath = FiltSignal.getData(foldNum,fileNum)           # Señal Filtrada\n",
    "print(filtPath)\n",
    "print(filtSig.shape)\n"
   ]
  },
  {
   "cell_type": "code",
   "execution_count": null,
   "metadata": {},
   "outputs": [],
   "source": [
    "SWSig = SWSignal.getData(foldNum,fileNum)               # Señal filtrada para detección de ondas lentas \n",
    "print(SWSig.shape)"
   ]
  },
  {
   "cell_type": "code",
   "execution_count": null,
   "metadata": {},
   "outputs": [],
   "source": [
    "## Indice de SW\n",
    "elct = 0\n",
    "indSW,labelInd = IndSW.getData(foldNum,fileNum,elct)\n",
    "indSize = indSW.shape\n",
    "print(indSize)\n",
    "print(labelInd)\n",
    "\n",
    "print(indSW[0,0])        # primeros indices de swr detectados [fila, columna]\n",
    "print(indSW[0,1])"
   ]
  },
  {
   "cell_type": "code",
   "execution_count": null,
   "metadata": {},
   "outputs": [],
   "source": []
  },
  {
   "cell_type": "code",
   "execution_count": null,
   "metadata": {},
   "outputs": [],
   "source": [
    "## Grafica de señales\n",
    "szOrg = orgSignal.shape\n",
    "timevec = np.arange(0,szOrg[1],1)/srate  \n",
    "print(timevec.shape)\n"
   ]
  },
  {
   "cell_type": "code",
   "execution_count": null,
   "metadata": {},
   "outputs": [],
   "source": []
  },
  {
   "cell_type": "code",
   "execution_count": null,
   "metadata": {},
   "outputs": [],
   "source": []
  },
  {
   "cell_type": "code",
   "execution_count": null,
   "metadata": {},
   "outputs": [],
   "source": []
  },
  {
   "cell_type": "code",
   "execution_count": null,
   "metadata": {},
   "outputs": [],
   "source": []
  },
  {
   "cell_type": "code",
   "execution_count": null,
   "metadata": {},
   "outputs": [],
   "source": []
  },
  {
   "cell_type": "code",
   "execution_count": null,
   "metadata": {},
   "outputs": [],
   "source": []
  },
  {
   "cell_type": "code",
   "execution_count": null,
   "metadata": {},
   "outputs": [],
   "source": []
  }
 ],
 "metadata": {
  "kernelspec": {
   "display_name": "Python 3",
   "language": "python",
   "name": "python3"
  },
  "language_info": {
   "codemirror_mode": {
    "name": "ipython",
    "version": 3
   },
   "file_extension": ".py",
   "mimetype": "text/x-python",
   "name": "python",
   "nbconvert_exporter": "python",
   "pygments_lexer": "ipython3",
   "version": "3.12.2"
  }
 },
 "nbformat": 4,
 "nbformat_minor": 2
}
